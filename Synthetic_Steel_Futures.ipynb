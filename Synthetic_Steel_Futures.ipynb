{
  "nbformat": 4,
  "nbformat_minor": 0,
  "metadata": {
    "colab": {
      "provenance": [],
      "authorship_tag": "ABX9TyMnDUADyAYwiGIrSvYu7cBa",
      "include_colab_link": true
    },
    "kernelspec": {
      "name": "python3",
      "display_name": "Python 3"
    },
    "language_info": {
      "name": "python"
    }
  },
  "cells": [
    {
      "cell_type": "markdown",
      "metadata": {
        "id": "view-in-github",
        "colab_type": "text"
      },
      "source": [
        "<a href=\"https://colab.research.google.com/github/arham-habib/hedged/blob/main/Synthetic_Steel_Futures.ipynb\" target=\"_parent\"><img src=\"https://colab.research.google.com/assets/colab-badge.svg\" alt=\"Open In Colab\"/></a>"
      ]
    },
    {
      "cell_type": "markdown",
      "source": [
        "# Synthetic steel futures\n",
        "\n",
        "### Problem statement: \n",
        "\n",
        "**Steel prices have experienced increased volatility in recent years**. Consequently, construction companies cannot properly hedge their costs. Many contractors don't have the financial expertise to hedge construction materials.\n",
        "\n",
        "Further, just-in-time manufacturing means traditional forward contracts might not be sufficient. For example, a contractor might not know the amount of steel it needs three months in the future during June, as this depends on how fast a project has progressed and how many new projects it has in the wings. Further, they might not want to stockpile steel, which exposes them to **inventory risk** and **decreases its ROA**. "
      ],
      "metadata": {
        "id": "ywppwX6xWXXP"
      }
    },
    {
      "cell_type": "markdown",
      "source": [
        "### Solution: \n",
        "\n",
        "Using publicly traded futures on the Chicago Mercantile Exchange, we will recreate the **Producer Price Index by Industry: Fabricated Structural Metal Manufacturing: Fabricated Structural Iron and Steel for Commercial, Residential, Institutional, and Public Buildings**. This data is accessible on the FRED database (code WPU101). For now, we will focus on futures contracts accessible in the US – including hot rolled coil and steel scrap"
      ],
      "metadata": {
        "id": "B7vr1A6bYyHg"
      }
    },
    {
      "cell_type": "markdown",
      "source": [
        "###1: Acquire data\n",
        "\n",
        "We will use monthly data, as we are limited by the frequency of the Producer Price Index (and weekly/daily data is subject to noise). \n",
        "\n"
      ],
      "metadata": {
        "id": "c5NH4aJQY0zp"
      }
    },
    {
      "cell_type": "code",
      "source": [
        "import pandas as pd\n",
        "\n",
        "ppi_fabricated_steel = pd.read_csv(\"https://raw.githubusercontent.com/arham-habib/hedged/main/Data/PPI%20Fabricated%20Structural%20Metal.csv\")\n",
        "hrc = pd.read_csv(\"https://raw.githubusercontent.com/arham-habib/hedged/main/Data/U.S.%20Midwest%20Domestic%20Hot-Rolle%20(HRC%3DF).csv\")\n",
        "steel_scrap = pd.read_csv(\"https://raw.githubusercontent.com/arham-habib/hedged/main/Data/Steel%20Scrap%20Futures%20Historical%20Data.csv\")\n",
        "\n",
        "print(ppi_fabricated_steel.head())\n",
        "print(hrc.head())\n",
        "print(steel_scrap.head())"
      ],
      "metadata": {
        "colab": {
          "base_uri": "https://localhost:8080/"
        },
        "id": "T9lQfisFT7aL",
        "outputId": "51656603-97b2-4453-feca-96db7d2b1d36"
      },
      "execution_count": 1,
      "outputs": [
        {
          "output_type": "stream",
          "name": "stdout",
          "text": [
            "         DATE  PCU33231233231212\n",
            "0  2011-06-01              100.0\n",
            "1  2011-07-01              101.2\n",
            "2  2011-08-01              100.7\n",
            "3  2011-09-01              100.6\n",
            "4  2011-10-01              100.9\n",
            "         Date  Open  High   Low  Close*  Adj Close** Volume\n",
            "0  2023-03-01  1002  1065  1002    1065         1065    209\n",
            "1  2023-02-01   786  1070   785    1054         1054   3237\n",
            "2  2022-12-01   656   750   650     744          744   1750\n",
            "3  2022-10-31   713   713   645     655          655   2340\n",
            "4  2022-09-30   770   790   682     713          713   3085\n",
            "         Date   Price   Open   High    Low   Vol. Change %\n",
            "0  03/01/2023  460.00  468.0  468.0  468.0    NaN    6.76%\n",
            "1  02/01/2023  430.88  430.0  430.0  430.0  9.31K    4.33%\n",
            "2  01/01/2023  413.00  411.5  411.5  411.5  6.56K    6.88%\n",
            "3  12/01/2022  386.41  381.0  381.0  381.0  3.88K   10.86%\n",
            "4  11/01/2022  348.56  355.5  355.5  355.5  2.81K   -4.73%\n"
          ]
        }
      ]
    },
    {
      "cell_type": "markdown",
      "source": [
        "Cleaning the data by reformatting the date columns and renaming the desired index. "
      ],
      "metadata": {
        "id": "ScQjvBWmuXun"
      }
    },
    {
      "cell_type": "code",
      "source": [
        "ppi_fabricated_steel = ppi_fabricated_steel.rename(columns={\"PCU33231233231212\": \"ppi\", \"DATE\": \"Date\"})\n",
        "hrc = hrc.rename(columns={\"Adj Close**\": \"price.hrc\"})\n",
        "steel_scrap = steel_scrap.rename(columns={\"Price\": \"price.scrap\"})\n",
        "\n",
        "# hrc['Date'] = pd.to_datetime(hrc['Date'], format='%m/%d/%y').dt.strftime('%Y-%m-%d'), now unnecessary by pre-processing data\n",
        "steel_scrap['Date'] = pd.to_datetime(steel_scrap['Date']).dt.strftime('%Y-%m-%d')\n",
        "\n",
        "print(ppi_fabricated_steel.head(2))\n",
        "print(hrc.head(2))\n",
        "print(steel_scrap.head(2))"
      ],
      "metadata": {
        "colab": {
          "base_uri": "https://localhost:8080/"
        },
        "id": "nMRd8MbIvLGK",
        "outputId": "1a8e3f16-5c8e-482f-d220-b0f06927f4b4"
      },
      "execution_count": 2,
      "outputs": [
        {
          "output_type": "stream",
          "name": "stdout",
          "text": [
            "         Date    ppi\n",
            "0  2011-06-01  100.0\n",
            "1  2011-07-01  101.2\n",
            "         Date  Open  High   Low  Close*  price.hrc Volume\n",
            "0  2023-03-01  1002  1065  1002    1065       1065    209\n",
            "1  2023-02-01   786  1070   785    1054       1054   3237\n",
            "         Date  price.scrap   Open   High    Low   Vol. Change %\n",
            "0  2023-03-01       460.00  468.0  468.0  468.0    NaN    6.76%\n",
            "1  2023-02-01       430.88  430.0  430.0  430.0  9.31K    4.33%\n"
          ]
        }
      ]
    },
    {
      "cell_type": "markdown",
      "source": [
        "Plot the data and observe preliminary similarities and differences: "
      ],
      "metadata": {
        "id": "qQvo-cX5FJ1f"
      }
    },
    {
      "cell_type": "code",
      "source": [
        "# change the date to a pandas datetime object\n",
        "ppi_fabricated_steel['Date'] = pd.to_datetime(ppi_fabricated_steel['Date'])\n",
        "hrc['Date'] = pd.to_datetime(hrc['Date'])\n",
        "steel_scrap['Date'] = pd.to_datetime(steel_scrap['Date'])\n",
        "\n",
        "# set indeces\n",
        "ppi_fabricated_steel = ppi_fabricated_steel.set_index('Date')\n",
        "hrc = hrc.set_index('Date')\n",
        "steel_scrap = steel_scrap.set_index('Date')"
      ],
      "metadata": {
        "id": "3S4-WtEeFMQ9"
      },
      "execution_count": 3,
      "outputs": []
    },
    {
      "cell_type": "markdown",
      "source": [
        "Plot PPI index: "
      ],
      "metadata": {
        "id": "U_1HxleQGpnW"
      }
    },
    {
      "cell_type": "code",
      "source": [
        "import matplotlib.pyplot as plt\n",
        "\n",
        "# create a line plot of the data\n",
        "plt.plot(ppi_fabricated_steel.index, ppi_fabricated_steel['ppi'])\n",
        "\n",
        "# set the title and axis labels\n",
        "plt.title('PPI over time')\n",
        "plt.xlabel('Time')\n",
        "plt.ylabel('PPI')\n",
        "\n",
        "# show the plot\n",
        "plt.show()\n"
      ],
      "metadata": {
        "colab": {
          "base_uri": "https://localhost:8080/",
          "height": 295
        },
        "id": "cqG5fZ9pGq7M",
        "outputId": "49af6069-e937-4548-af08-44daf61ee755"
      },
      "execution_count": 4,
      "outputs": [
        {
          "output_type": "display_data",
          "data": {
            "text/plain": [
              "<Figure size 432x288 with 1 Axes>"
            ],
            "image/png": "[encoded data removed]"
          },
          "metadata": {
            "needs_background": "light"
          }
        }
      ]
    },
    {
      "cell_type": "markdown",
      "source": [
        "Plot HRC futures: "
      ],
      "metadata": {
        "id": "mDinnF8CG-ef"
      }
    },
    {
      "cell_type": "code",
      "source": [
        "# create a line plot of the data\n",
        "plt.plot(hrc.index, hrc['price.hrc'])\n",
        "\n",
        "# set the title and axis labels\n",
        "plt.title('HRC over time')\n",
        "plt.xlabel('Time')\n",
        "plt.ylabel('HRC')\n",
        "\n",
        "# show the plot\n",
        "plt.show()\n"
      ],
      "metadata": {
        "colab": {
          "base_uri": "https://localhost:8080/",
          "height": 295
        },
        "id": "Qvad3twwG936",
        "outputId": "efe86f86-d185-4e77-fae4-875dde379fab"
      },
      "execution_count": 5,
      "outputs": [
        {
          "output_type": "display_data",
          "data": {
            "text/plain": [
              "<Figure size 432x288 with 1 Axes>"
            ],
            "image/png": "[encoded data removed]"
          },
          "metadata": {
            "needs_background": "light"
          }
        }
      ]
    },
    {
      "cell_type": "markdown",
      "source": [
        "Plot steel scrap futures: "
      ],
      "metadata": {
        "id": "hvZjrraCHNoQ"
      }
    },
    {
      "cell_type": "code",
      "source": [
        "# create a line plot of the data\n",
        "plt.plot(steel_scrap.index, steel_scrap['price.scrap'])\n",
        "\n",
        "# set the title and axis labels\n",
        "plt.title('Steel Scrap over time')\n",
        "plt.xlabel('Time')\n",
        "plt.ylabel('Steel Scrap')\n",
        "\n",
        "# show the plot\n",
        "plt.show()\n"
      ],
      "metadata": {
        "colab": {
          "base_uri": "https://localhost:8080/",
          "height": 295
        },
        "id": "oRWFaj9-HMEG",
        "outputId": "b00d308c-d323-4abf-beec-77cc03c724c4"
      },
      "execution_count": 6,
      "outputs": [
        {
          "output_type": "display_data",
          "data": {
            "text/plain": [
              "<Figure size 432x288 with 1 Axes>"
            ],
            "image/png": "[encoded data removed]"
          },
          "metadata": {
            "needs_background": "light"
          }
        }
      ]
    },
    {
      "cell_type": "markdown",
      "source": [
        "Merge the data based on the date, with 2 day tolerance:"
      ],
      "metadata": {
        "id": "u7san10TLhQT"
      }
    },
    {
      "cell_type": "code",
      "source": [
        "# sort the data\n",
        "ppi_fabricated_steel = ppi_fabricated_steel.sort_values(by='Date')\n",
        "hrc = hrc.sort_values(by='Date')\n",
        "steel_scrap = steel_scrap.sort_values(by='Date')\n",
        "\n",
        "\n",
        "# merge the data\n",
        "merged_df = pd.merge_asof(ppi_fabricated_steel, hrc, on='Date', tolerance=pd.Timedelta('2 days'))\n",
        "merged_df = pd.merge_asof(merged_df, steel_scrap, on='Date', tolerance=pd.Timedelta('2 days'))\n",
        "merged_df = merged_df.dropna()\n",
        "merged_df = merged_df[['Date', 'ppi', 'price.hrc', 'price.scrap']]\n",
        "print(merged_df.head())"
      ],
      "metadata": {
        "colab": {
          "base_uri": "https://localhost:8080/"
        },
        "id": "ipQtscf-xUp_",
        "outputId": "7eb9be1e-30b7-4c74-9efc-8497491a728a"
      },
      "execution_count": 7,
      "outputs": [
        {
          "output_type": "stream",
          "name": "stdout",
          "text": [
            "         Date    ppi  price.hrc  price.scrap\n",
            "54 2015-12-01  109.2      391.0       188.95\n",
            "56 2016-02-01  108.9      402.0       177.05\n",
            "57 2016-03-01  108.9      480.0       216.19\n",
            "58 2016-04-01  110.3      560.0       274.19\n",
            "60 2016-06-01  111.3      618.0       228.73\n"
          ]
        }
      ]
    },
    {
      "cell_type": "markdown",
      "source": [
        "Plot the data on one graph and calculate correlation: "
      ],
      "metadata": {
        "id": "zyjv-NR8OcEJ"
      }
    },
    {
      "cell_type": "code",
      "source": [
        "import matplotlib.pyplot as plt\n",
        "\n",
        "# set the figure size\n",
        "plt.figure(figsize=(10, 5))\n",
        "\n",
        "# plot the 'ppi', 'price.hrc', and 'price.scrap' columns on the same graph\n",
        "plt.plot(merged_df['Date'], merged_df['ppi'], label='PPI')\n",
        "plt.plot(merged_df['Date'], merged_df['price.hrc'], label='HRC')\n",
        "plt.plot(merged_df['Date'], merged_df['price.scrap'], label='Scrap')\n",
        "\n",
        "# add axis labels and a title\n",
        "plt.xlabel('Date')\n",
        "plt.ylabel('Price')\n",
        "plt.title('Steel Prices')\n",
        "\n",
        "# add a legend\n",
        "plt.legend()\n",
        "\n",
        "# display the plot\n",
        "plt.show()"
      ],
      "metadata": {
        "colab": {
          "base_uri": "https://localhost:8080/",
          "height": 350
        },
        "id": "EwLMP0VDOrL9",
        "outputId": "29ae2c96-334b-4595-8bc2-b0a5768658de"
      },
      "execution_count": 8,
      "outputs": [
        {
          "output_type": "display_data",
          "data": {
            "text/plain": [
              "<Figure size 720x360 with 1 Axes>"
            ],
            "image/png": "[encoded data removed]"
          },
          "metadata": {
            "needs_background": "light"
          }
        }
      ]
    },
    {
      "cell_type": "markdown",
      "source": [
        "Add the lags, because fluctuations in earlier periods might affect later periods: "
      ],
      "metadata": {
        "id": "hwCpAuKrFD-h"
      }
    },
    {
      "cell_type": "code",
      "source": [
        "# add lagged columns for 'price.hrc'\n",
        "merged_df['price.hrc_lag1'] = merged_df['price.hrc'].shift(1)\n",
        "merged_df['price.hrc_lag2'] = merged_df['price.hrc'].shift(2)\n",
        "merged_df['price.hrc_lag3'] = merged_df['price.hrc'].shift(3)\n",
        "merged_df['price.hrc_lag4'] = merged_df['price.hrc'].shift(4)\n",
        "\n",
        "# add lagged columns for 'price.scrap'\n",
        "merged_df['price.scrap_lag1'] = merged_df['price.scrap'].shift(1)\n",
        "merged_df['price.scrap_lag2'] = merged_df['price.scrap'].shift(2)\n",
        "merged_df['price.scrap_lag3'] = merged_df['price.scrap'].shift(3)\n",
        "merged_df['price.scrap_lag4'] = merged_df['price.scrap'].shift(4)\n",
        "\n",
        "# add one lag for ppi\n",
        "merged_df['ppi_lag1'] = merged_df['ppi'].shift(1)\n"
      ],
      "metadata": {
        "id": "nRei7rshFCRD"
      },
      "execution_count": 9,
      "outputs": []
    },
    {
      "cell_type": "code",
      "source": [
        "# correlations\n",
        "print(merged_df.corr())"
      ],
      "metadata": {
        "colab": {
          "base_uri": "https://localhost:8080/"
        },
        "id": "Ll6CpiBcQdAD",
        "outputId": "ed41596d-d614-41f4-8c11-241bb15a26b1"
      },
      "execution_count": 10,
      "outputs": [
        {
          "output_type": "stream",
          "name": "stdout",
          "text": [
            "                       ppi  price.hrc  price.scrap  price.hrc_lag1  \\\n",
            "ppi               1.000000   0.591374     0.713129        0.666826   \n",
            "price.hrc         0.591374   1.000000     0.827060        0.959735   \n",
            "price.scrap       0.713129   0.827060     1.000000        0.779331   \n",
            "price.hrc_lag1    0.666826   0.959735     0.779331        1.000000   \n",
            "price.hrc_lag2    0.734209   0.891555     0.761155        0.960016   \n",
            "price.hrc_lag3    0.788246   0.807231     0.768990        0.891485   \n",
            "price.hrc_lag4    0.831077   0.714116     0.769326        0.807246   \n",
            "price.scrap_lag1  0.764996   0.807197     0.890198        0.830045   \n",
            "price.scrap_lag2  0.811331   0.729989     0.777159        0.807829   \n",
            "price.scrap_lag3  0.840972   0.661004     0.742940        0.731610   \n",
            "price.scrap_lag4  0.861186   0.602444     0.718022        0.662571   \n",
            "ppi_lag1          0.993562   0.516796     0.662909        0.608865   \n",
            "\n",
            "                  price.hrc_lag2  price.hrc_lag3  price.hrc_lag4  \\\n",
            "ppi                     0.734209        0.788246        0.831077   \n",
            "price.hrc               0.891555        0.807231        0.714116   \n",
            "price.scrap             0.761155        0.768990        0.769326   \n",
            "price.hrc_lag1          0.960016        0.891485        0.807246   \n",
            "price.hrc_lag2          1.000000        0.960137        0.892174   \n",
            "price.hrc_lag3          0.960137        1.000000        0.960341   \n",
            "price.hrc_lag4          0.892174        0.960341        1.000000   \n",
            "price.scrap_lag1        0.784552        0.764625        0.770951   \n",
            "price.scrap_lag2        0.831848        0.785387        0.764834   \n",
            "price.scrap_lag3        0.811299        0.833964        0.786335   \n",
            "price.scrap_lag4        0.734978        0.813431        0.834963   \n",
            "ppi_lag1                0.692499        0.757164        0.807944   \n",
            "\n",
            "                  price.scrap_lag1  price.scrap_lag2  price.scrap_lag3  \\\n",
            "ppi                       0.764996          0.811331          0.840972   \n",
            "price.hrc                 0.807197          0.729989          0.661004   \n",
            "price.scrap               0.890198          0.777159          0.742940   \n",
            "price.hrc_lag1            0.830045          0.807829          0.731610   \n",
            "price.hrc_lag2            0.784552          0.831848          0.811299   \n",
            "price.hrc_lag3            0.764625          0.785387          0.833964   \n",
            "price.hrc_lag4            0.770951          0.764834          0.786335   \n",
            "price.scrap_lag1          1.000000          0.890994          0.776880   \n",
            "price.scrap_lag2          0.890994          1.000000          0.891208   \n",
            "price.scrap_lag3          0.776880          0.891208          1.000000   \n",
            "price.scrap_lag4          0.742621          0.777061          0.891083   \n",
            "ppi_lag1                  0.717318          0.778700          0.821893   \n",
            "\n",
            "                  price.scrap_lag4  ppi_lag1  \n",
            "ppi                       0.861186  0.993562  \n",
            "price.hrc                 0.602444  0.516796  \n",
            "price.scrap               0.718022  0.662909  \n",
            "price.hrc_lag1            0.662571  0.608865  \n",
            "price.hrc_lag2            0.734978  0.692499  \n",
            "price.hrc_lag3            0.813431  0.757164  \n",
            "price.hrc_lag4            0.834963  0.807944  \n",
            "price.scrap_lag1          0.742621  0.717318  \n",
            "price.scrap_lag2          0.777061  0.778700  \n",
            "price.scrap_lag3          0.891083  0.821893  \n",
            "price.scrap_lag4          1.000000  0.852418  \n",
            "ppi_lag1                  0.852418  1.000000  \n"
          ]
        }
      ]
    },
    {
      "cell_type": "markdown",
      "source": [
        "We'll take the log_diff of the three relevant prices. This will make the time series stationary, allowing us to use linear regression."
      ],
      "metadata": {
        "id": "Aqv_EgDsza1w"
      }
    },
    {
      "cell_type": "code",
      "source": [
        "import numpy as np\n",
        "\n",
        "log_diff_df = pd.DataFrame(merged_df['Date'])\n",
        "log_diff_df['log_diff_price_hrc'] = np.log(merged_df['price.hrc']).diff()\n",
        "log_diff_df['log_diff_price_scrap'] = np.log(merged_df['price.scrap']).diff()\n",
        "log_diff_df['log_diff_ppi'] = np.log(merged_df['ppi']).diff()\n",
        "\n",
        "# drop earliest date with no prior change\n",
        "log_diff_df = log_diff_df.dropna()\n"
      ],
      "metadata": {
        "id": "iQL-JWEK0iKT"
      },
      "execution_count": null,
      "outputs": []
    },
    {
      "cell_type": "code",
      "source": [
        "import matplotlib.pyplot as plt\n",
        "\n",
        "# set the figure size\n",
        "plt.figure(figsize=(10, 5))\n",
        "\n",
        "# plot the 'ppi', 'price.hrc', and 'price.scrap' columns on the same graph\n",
        "plt.plot(log_diff_df['Date'], log_diff_df['log_diff_ppi'], label='PPI')\n",
        "plt.plot(log_diff_df['Date'], log_diff_df['log_diff_price_hrc'], label='HRC')\n",
        "plt.plot(log_diff_df['Date'], log_diff_df['log_diff_price_scrap'], label='Scrap')\n",
        "\n",
        "# add axis labels and a title\n",
        "plt.xlabel('Date')\n",
        "plt.ylabel('Return')\n",
        "plt.title('Log returns')\n",
        "\n",
        "# add a legend\n",
        "plt.legend()\n",
        "\n",
        "# display the plot\n",
        "plt.show()"
      ],
      "metadata": {
        "colab": {
          "base_uri": "https://localhost:8080/",
          "height": 350
        },
        "id": "c5KnbMh_Pm3J",
        "outputId": "c8fa9280-22c8-4cd9-86a3-04077344351e"
      },
      "execution_count": null,
      "outputs": [
        {
          "output_type": "display_data",
          "data": {
            "text/plain": [
              "<Figure size 720x360 with 1 Axes>"
            ],
            "image/png": "[encoded data removed]"
          },
          "metadata": {
            "needs_background": "light"
          }
        }
      ]
    },
    {
      "cell_type": "code",
      "source": [
        "# Add the same lags: \n",
        "\n",
        "log_diff_df['log_diff_price_hrc_lag1'] = log_diff_df['log_diff_price_hrc'].shift(1)\n",
        "log_diff_df['log_diff_price_hrc_lag2'] = log_diff_df['log_diff_price_hrc'].shift(2)\n",
        "log_diff_df['log_diff_price_hrc_lag3'] = log_diff_df['log_diff_price_hrc'].shift(3)\n",
        "log_diff_df['log_diff_price_hrc_lag4'] = log_diff_df['log_diff_price_hrc'].shift(4)\n",
        "\n",
        "log_diff_df['log_diff_price_scrap_lag1'] = log_diff_df['log_diff_price_scrap'].shift(1)\n",
        "log_diff_df['log_diff_price_scrap_lag2'] = log_diff_df['log_diff_price_scrap'].shift(2)\n",
        "log_diff_df['log_diff_price_scrap_lag3'] = log_diff_df['log_diff_price_scrap'].shift(3)\n",
        "log_diff_df['log_diff_price_scrap_lag4'] = log_diff_df['log_diff_price_scrap'].shift(4)"
      ],
      "metadata": {
        "id": "yv18WJhSF294"
      },
      "execution_count": null,
      "outputs": []
    },
    {
      "cell_type": "code",
      "source": [
        "# drop the NAs\n",
        "merged_df = merged_df.dropna()\n",
        "log_diff_df = log_diff_df.dropna()\n",
        "\n",
        "print(log_diff_df.head())\n",
        "print(merged_df.head())"
      ],
      "metadata": {
        "colab": {
          "base_uri": "https://localhost:8080/"
        },
        "id": "_RQMJro9Ho7v",
        "outputId": "d8ae6c63-f734-4a60-f0dc-ea4650a9dce9"
      },
      "execution_count": null,
      "outputs": [
        {
          "output_type": "stream",
          "name": "stdout",
          "text": [
            "         Date  log_diff_price_hrc  log_diff_price_scrap  log_diff_ppi  \\\n",
            "61 2016-07-01           -0.037927             -0.042831      0.005376   \n",
            "62 2016-08-01           -0.069593              0.036032      0.000893   \n",
            "63 2016-09-01           -0.112392             -0.045845     -0.004474   \n",
            "64 2016-10-01           -0.008097              0.028977      0.001792   \n",
            "65 2016-11-01            0.133023              0.169987      0.000000   \n",
            "\n",
            "    log_diff_price_hrc_lag1  log_diff_price_hrc_lag2  log_diff_price_hrc_lag3  \\\n",
            "61                 0.098552                 0.154151                 0.177334   \n",
            "62                -0.037927                 0.098552                 0.154151   \n",
            "63                -0.069593                -0.037927                 0.098552   \n",
            "64                -0.112392                -0.069593                -0.037927   \n",
            "65                -0.008097                -0.112392                -0.069593   \n",
            "\n",
            "    log_diff_price_hrc_lag4  log_diff_price_scrap_lag1  \\\n",
            "61                 0.027745                  -0.181279   \n",
            "62                 0.177334                  -0.042831   \n",
            "63                 0.154151                   0.036032   \n",
            "64                 0.098552                  -0.045845   \n",
            "65                -0.037927                   0.028977   \n",
            "\n",
            "    log_diff_price_scrap_lag2  log_diff_price_scrap_lag3  \\\n",
            "61                   0.237664                   0.199725   \n",
            "62                  -0.181279                   0.237664   \n",
            "63                  -0.042831                  -0.181279   \n",
            "64                   0.036032                  -0.042831   \n",
            "65                  -0.045845                   0.036032   \n",
            "\n",
            "    log_diff_price_scrap_lag4  \n",
            "61                  -0.065050  \n",
            "62                   0.199725  \n",
            "63                   0.237664  \n",
            "64                  -0.181279  \n",
            "65                  -0.042831  \n",
            "         Date    ppi  price.hrc  price.scrap  price.hrc_lag1  price.hrc_lag2  \\\n",
            "60 2016-06-01  111.3      618.0       228.73           560.0           480.0   \n",
            "61 2016-07-01  111.9      595.0       219.14           618.0           560.0   \n",
            "62 2016-08-01  112.0      555.0       227.18           595.0           618.0   \n",
            "63 2016-09-01  111.5      496.0       217.00           555.0           595.0   \n",
            "64 2016-10-01  111.7      492.0       223.38           496.0           555.0   \n",
            "\n",
            "    price.hrc_lag3  price.hrc_lag4  price.scrap_lag1  price.scrap_lag2  \\\n",
            "60           402.0           391.0            274.19            216.19   \n",
            "61           480.0           402.0            228.73            274.19   \n",
            "62           560.0           480.0            219.14            228.73   \n",
            "63           618.0           560.0            227.18            219.14   \n",
            "64           595.0           618.0            217.00            227.18   \n",
            "\n",
            "    price.scrap_lag3  price.scrap_lag4  \n",
            "60            177.05            188.95  \n",
            "61            216.19            177.05  \n",
            "62            274.19            216.19  \n",
            "63            228.73            274.19  \n",
            "64            219.14            228.73  \n"
          ]
        }
      ]
    },
    {
      "cell_type": "markdown",
      "source": [
        "### 2: Linear Regression (the naïve approach)\n",
        "\n",
        "Now that we have a dataframe with the returns of each of the assets month to month, let's run a linear regression and analyze the results. Let's start with the non-stationary time series of price (I don't expect these to be useful except as a baseline, so I won't even split into test/train yet):"
      ],
      "metadata": {
        "id": "MdWHY5ro20jH"
      }
    },
    {
      "cell_type": "code",
      "source": [
        "import statsmodels.api as sm\n",
        "\n",
        "# set y variable\n",
        "y = merged_df['ppi']\n",
        "\n",
        "# Define x variables\n",
        "x_cols = [col for col in merged_df.columns if col not in ['ppi', 'Date']]\n",
        "x = merged_df[x_cols]\n",
        "\n",
        "# Add constant to x variables\n",
        "x = sm.add_constant(x)\n",
        "\n",
        "# Fit linear regression model\n",
        "model = sm.OLS(y, x).fit()\n",
        "\n",
        "# Calculate MSE\n",
        "y_pred = model.predict(x)\n",
        "mse = mean_squared_error(y, y_pred)\n",
        "\n",
        "# Print model summary and MSE\n",
        "print(model.summary())\n",
        "print('MSE:', mse)"
      ],
      "metadata": {
        "colab": {
          "base_uri": "https://localhost:8080/"
        },
        "id": "yH6ZCiihGNac",
        "outputId": "6d6d4e2d-9bd1-4c18-ff79-8308d03950ed"
      },
      "execution_count": null,
      "outputs": [
        {
          "output_type": "stream",
          "name": "stdout",
          "text": [
            "                            OLS Regression Results                            \n",
            "==============================================================================\n",
            "Dep. Variable:                    ppi   R-squared:                       0.838\n",
            "Model:                            OLS   Adj. R-squared:                  0.810\n",
            "Method:                 Least Squares   F-statistic:                     29.95\n",
            "Date:                Mon, 13 Mar 2023   Prob (F-statistic):           2.57e-19\n",
            "Time:                        14:45:02   Log-Likelihood:                -280.51\n",
            "No. Observations:                  69   AIC:                             583.0\n",
            "Df Residuals:                      58   BIC:                             607.6\n",
            "Df Model:                          10                                         \n",
            "Covariance Type:            nonrobust                                         \n",
            "====================================================================================\n",
            "                       coef    std err          t      P>|t|      [0.025      0.975]\n",
            "------------------------------------------------------------------------------------\n",
            "const               34.8555      9.868      3.532      0.001      15.102      54.609\n",
            "price.hrc            0.0192      0.034      0.573      0.569      -0.048       0.086\n",
            "price.scrap         -0.0630      0.072     -0.873      0.386      -0.207       0.081\n",
            "price.hrc_lag1      -0.0065      0.042     -0.155      0.878      -0.091       0.078\n",
            "price.hrc_lag2      -0.0421      0.044     -0.956      0.343      -0.130       0.046\n",
            "price.hrc_lag3      -0.0252      0.041     -0.613      0.542      -0.107       0.057\n",
            "price.hrc_lag4       0.0789      0.030      2.605      0.012       0.018       0.140\n",
            "price.scrap_lag1     0.0094      0.079      0.119      0.906      -0.148       0.167\n",
            "price.scrap_lag2     0.1171      0.083      1.417      0.162      -0.048       0.283\n",
            "price.scrap_lag3     0.1311      0.084      1.552      0.126      -0.038       0.300\n",
            "price.scrap_lag4     0.0552      0.060      0.915      0.364      -0.066       0.176\n",
            "==============================================================================\n",
            "Omnibus:                       23.829   Durbin-Watson:                   0.234\n",
            "Prob(Omnibus):                  0.000   Jarque-Bera (JB):               39.859\n",
            "Skew:                           1.263   Prob(JB):                     2.21e-09\n",
            "Kurtosis:                       5.736   Cond. No.                     1.15e+04\n",
            "==============================================================================\n",
            "\n",
            "Notes:\n",
            "[1] Standard Errors assume that the covariance matrix of the errors is correctly specified.\n",
            "[2] The condition number is large, 1.15e+04. This might indicate that there are\n",
            "strong multicollinearity or other numerical problems.\n",
            "MSE: 198.88855792127745\n"
          ]
        }
      ]
    },
    {
      "cell_type": "markdown",
      "source": [
        "As expected, this is not a very robust model (the only significant term is the constant), likely due to multicollinearity and because linear regression assumes the time series is stationary. We'll plot this, and then let's try the same process on the log_return time series, and then start experimenting with regularization. "
      ],
      "metadata": {
        "id": "Qzu1akqIIP8W"
      }
    },
    {
      "cell_type": "code",
      "source": [
        "import matplotlib.pyplot as plt\n",
        "\n",
        "# Make predictions using the model\n",
        "result_df = pd.DataFrame()\n",
        "\n",
        "# create a DF to hold results\n",
        "result_df['y_hat_lm'] = model.predict(x)\n",
        "\n",
        "# Create scatter plot\n",
        "fig, ax = plt.subplots(figsize=(10, 6))\n",
        "ax.scatter(merged_df['Date'], merged_df['ppi'], label='Actual', s=10)\n",
        "ax.scatter(merged_df['Date'], result_df['y_hat'], label='Predicted', s=10)\n",
        "\n",
        "# Add labels and legend\n",
        "ax.set_xlabel('Date')\n",
        "ax.set_ylabel('ppi')\n",
        "ax.legend()\n",
        "\n",
        "# Add labels and legend\n",
        "plt.xlabel('Date')\n",
        "plt.ylabel('ppi')\n",
        "plt.legend()\n",
        "\n",
        "# Show plot\n",
        "plt.show()"
      ],
      "metadata": {
        "colab": {
          "base_uri": "https://localhost:8080/",
          "height": 388
        },
        "id": "iTbsSFYTJ_4B",
        "outputId": "401a9666-8668-496a-f7ea-9dad8eca3511"
      },
      "execution_count": null,
      "outputs": [
        {
          "output_type": "display_data",
          "data": {
            "text/plain": [
              "<Figure size 720x432 with 1 Axes>"
            ],
            "image/png": "[encoded data removed]"
          },
          "metadata": {
            "needs_background": "light"
          }
        }
      ]
    },
    {
      "cell_type": "code",
      "source": [
        "import statsmodels.api as sm\n",
        "\n",
        "# set y variable\n",
        "y = log_diff_df['log_diff_ppi']\n",
        "\n",
        "# Define x variables\n",
        "x_cols = [col for col in log_diff_df.columns if col not in ['log_diff_ppi', 'Date']]\n",
        "x = log_diff_df[x_cols]\n",
        "\n",
        "# Add constant to x variables\n",
        "x = sm.add_constant(x)\n",
        "\n",
        "# Fit linear regression model\n",
        "model = sm.OLS(y, x).fit()\n",
        "\n",
        "# Calculate MSE\n",
        "y_pred = model.predict(x)\n",
        "mse = mean_squared_error(y, y_pred)\n",
        "\n",
        "# create df to store log regression results\n",
        "log_result_df = pd.DataFrame()\n",
        "log_result_df['y_hat_lm'] = model.predict(x)\n",
        "\n",
        "# Print model summary and MSE\n",
        "print(model.summary())\n",
        "print('MSE:', mse)"
      ],
      "metadata": {
        "colab": {
          "base_uri": "https://localhost:8080/"
        },
        "id": "HTgCKvhnIPlj",
        "outputId": "a66f7d6a-7214-4859-fc84-ea0b5bb89fcc"
      },
      "execution_count": null,
      "outputs": [
        {
          "output_type": "stream",
          "name": "stdout",
          "text": [
            "                            OLS Regression Results                            \n",
            "==============================================================================\n",
            "Dep. Variable:           log_diff_ppi   R-squared:                       0.426\n",
            "Model:                            OLS   Adj. R-squared:                  0.326\n",
            "Method:                 Least Squares   F-statistic:                     4.237\n",
            "Date:                Mon, 13 Mar 2023   Prob (F-statistic):           0.000202\n",
            "Time:                        15:32:34   Log-Likelihood:                 171.41\n",
            "No. Observations:                  68   AIC:                            -320.8\n",
            "Df Residuals:                      57   BIC:                            -296.4\n",
            "Df Model:                          10                                         \n",
            "Covariance Type:            nonrobust                                         \n",
            "=============================================================================================\n",
            "                                coef    std err          t      P>|t|      [0.025      0.975]\n",
            "---------------------------------------------------------------------------------------------\n",
            "const                         0.0066      0.003      2.474      0.016       0.001       0.012\n",
            "log_diff_price_hrc            0.0669      0.037      1.784      0.080      -0.008       0.142\n",
            "log_diff_price_scrap         -0.0563      0.035     -1.615      0.112      -0.126       0.013\n",
            "log_diff_price_hrc_lag1       0.0449      0.038      1.180      0.243      -0.031       0.121\n",
            "log_diff_price_hrc_lag2      -0.0482      0.039     -1.231      0.223      -0.127       0.030\n",
            "log_diff_price_hrc_lag3      -0.0040      0.037     -0.108      0.914      -0.078       0.070\n",
            "log_diff_price_hrc_lag4       0.1271      0.032      3.989      0.000       0.063       0.191\n",
            "log_diff_price_scrap_lag1     0.0069      0.037      0.188      0.851      -0.066       0.080\n",
            "log_diff_price_scrap_lag2     0.0479      0.036      1.326      0.190      -0.024       0.120\n",
            "log_diff_price_scrap_lag3     0.0879      0.034      2.586      0.012       0.020       0.156\n",
            "log_diff_price_scrap_lag4    -0.0279      0.030     -0.928      0.357      -0.088       0.032\n",
            "==============================================================================\n",
            "Omnibus:                       12.507   Durbin-Watson:                   1.060\n",
            "Prob(Omnibus):                  0.002   Jarque-Bera (JB):               14.489\n",
            "Skew:                           0.829   Prob(JB):                     0.000714\n",
            "Kurtosis:                       4.537   Cond. No.                         21.6\n",
            "==============================================================================\n",
            "\n",
            "Notes:\n",
            "[1] Standard Errors assume that the covariance matrix of the errors is correctly specified.\n",
            "MSE: 0.000378480195246969\n"
          ]
        }
      ]
    },
    {
      "cell_type": "markdown",
      "source": [
        "Again, let's plot this regression: "
      ],
      "metadata": {
        "id": "B5SEyRu2Kv1V"
      }
    },
    {
      "cell_type": "code",
      "source": [
        "import matplotlib.pyplot as plt\n",
        "\n",
        "# Make predictions using the model\n",
        "log_diff_df['y_hat'] = model.predict(x)\n",
        "\n",
        "# Create scatter plot\n",
        "fig, ax = plt.subplots(figsize=(10, 6))\n",
        "ax.scatter(log_diff_df['Date'], log_diff_df['log_diff_ppi'], label='Actual', s=10)\n",
        "ax.scatter(log_diff_df['Date'], log_diff_df['y_hat'], label='Predicted', s=10)\n",
        "\n",
        "# Add labels and legend\n",
        "ax.set_xlabel('Date')\n",
        "ax.set_ylabel('ppi')\n",
        "ax.legend()\n",
        "\n",
        "# Add labels and legend\n",
        "plt.xlabel('Date')\n",
        "plt.ylabel('ppi')\n",
        "plt.legend()\n",
        "\n",
        "# Show plot\n",
        "plt.show()"
      ],
      "metadata": {
        "colab": {
          "base_uri": "https://localhost:8080/",
          "height": 388
        },
        "id": "bhE510DIKeEE",
        "outputId": "8e643cb2-b114-485b-cc08-3759f85e416b"
      },
      "execution_count": null,
      "outputs": [
        {
          "output_type": "display_data",
          "data": {
            "text/plain": [
              "<Figure size 720x432 with 1 Axes>"
            ],
            "image/png": "[encoded data removed]"
          },
          "metadata": {
            "needs_background": "light"
          }
        }
      ]
    },
    {
      "cell_type": "code",
      "source": [
        "from sklearn.preprocessing import StandardScaler\n",
        "from sklearn.metrics import mean_squared_error\n",
        "\n",
        "# set y variable\n",
        "y = log_diff_df['log_diff_ppi']\n",
        "\n",
        "# Define x variables\n",
        "x_cols = [col for col in log_diff_df.columns if col in ['log_diff_price_hrc', 'log_diff_price_hrc_lag1', 'log_diff_price_hrc_lag4', 'log_diff_price_scrap', 'log_diff_price_scrap_lag3']]\n",
        "X = log_diff_df[x_cols]\n",
        "\n",
        "# scale to compare to L1 regularization\n",
        "scaler = StandardScaler()\n",
        "X = scaler.fit_transform(X)\n",
        "\n",
        "# Add constant to x variables\n",
        "X = sm.add_constant(X)\n",
        "\n",
        "# Fit linear regression model\n",
        "model = sm.OLS(y, X).fit()\n",
        "\n",
        "# Print model summary\n",
        "print(model.summary())\n",
        "\n",
        "# make predictions on X_test using the fitted model\n",
        "y_pred = model.predict(X)\n",
        "\n",
        "# calculate the mean squared error between the predicted and true target values\n",
        "mse = mean_squared_error(y, y_pred)\n",
        "\n",
        "# print the MSE\n",
        "print('MSE:', mse)"
      ],
      "metadata": {
        "colab": {
          "base_uri": "https://localhost:8080/"
        },
        "id": "Ryr-lN1bRsu-",
        "outputId": "3fd4a5b0-e46e-41f8-c8ed-fcf70deffd0d"
      },
      "execution_count": null,
      "outputs": [
        {
          "output_type": "stream",
          "name": "stdout",
          "text": [
            "                            OLS Regression Results                            \n",
            "==============================================================================\n",
            "Dep. Variable:           log_diff_ppi   R-squared:                       0.385\n",
            "Model:                            OLS   Adj. R-squared:                  0.335\n",
            "Method:                 Least Squares   F-statistic:                     7.755\n",
            "Date:                Mon, 13 Mar 2023   Prob (F-statistic):           1.02e-05\n",
            "Time:                        15:44:53   Log-Likelihood:                 169.03\n",
            "No. Observations:                  68   AIC:                            -326.1\n",
            "Df Residuals:                      62   BIC:                            -312.7\n",
            "Df Model:                           5                                         \n",
            "Covariance Type:            nonrobust                                         \n",
            "==============================================================================\n",
            "                 coef    std err          t      P>|t|      [0.025      0.975]\n",
            "------------------------------------------------------------------------------\n",
            "const          0.0084      0.003      3.299      0.002       0.003       0.014\n",
            "x1             0.0059      0.004      1.639      0.106      -0.001       0.013\n",
            "x2            -0.0055      0.003     -1.614      0.112      -0.012       0.001\n",
            "x3             0.0067      0.003      2.226      0.030       0.001       0.013\n",
            "x4             0.0098      0.003      3.741      0.000       0.005       0.015\n",
            "x5             0.0068      0.003      2.624      0.011       0.002       0.012\n",
            "==============================================================================\n",
            "Omnibus:                       16.252   Durbin-Watson:                   1.101\n",
            "Prob(Omnibus):                  0.000   Jarque-Bera (JB):               21.805\n",
            "Skew:                           0.968   Prob(JB):                     1.84e-05\n",
            "Kurtosis:                       4.987   Cond. No.                         2.46\n",
            "==============================================================================\n",
            "\n",
            "Notes:\n",
            "[1] Standard Errors assume that the covariance matrix of the errors is correctly specified.\n",
            "MSE: 0.0004059457857306569\n"
          ]
        }
      ]
    },
    {
      "cell_type": "markdown",
      "source": [
        "### Lasso model: \n",
        "\n",
        "Let's experiment with Type 1 regularization. We can use this to identify the most relevant variables, "
      ],
      "metadata": {
        "id": "7zKaFkGOKubM"
      }
    },
    {
      "cell_type": "code",
      "source": [
        "# start by splitting the dataframe into test and train\n",
        "\n",
        "from sklearn.model_selection import train_test_split\n",
        "\n",
        "# set y variable\n",
        "y = log_diff_df['log_diff_ppi']\n",
        "\n",
        "# Define x variables\n",
        "x_cols = [col for col in log_diff_df.columns if col not in ['log_diff_ppi', 'Date']]\n",
        "x = log_diff_df[x_cols]\n",
        "\n",
        "# Add constant to x variables\n",
        "x = sm.add_constant(x)\n",
        "\n",
        "# Split the data into training and testing sets\n",
        "x_train, x_test, y_train, y_test = train_test_split(x, y, test_size=0.2, random_state=1738)"
      ],
      "metadata": {
        "id": "CegNv1LEOW2I"
      },
      "execution_count": null,
      "outputs": []
    },
    {
      "cell_type": "code",
      "source": [
        "import numpy as np\n",
        "import matplotlib.pyplot as plt\n",
        "from sklearn.linear_model import Lasso\n",
        "from sklearn.preprocessing import StandardScaler\n",
        "\n",
        "# Define your X and y variables\n",
        "X = x_train\n",
        "y = y_train\n",
        "\n",
        "# Scale your X variables\n",
        "scaler = StandardScaler()\n",
        "X_scaled = scaler.fit_transform(X)\n",
        "\n",
        "# Define the range of lambda values to test\n",
        "lambda_values = np.logspace(-3, 2, 100)\n",
        "\n",
        "# Create an empty array to store the coefficients\n",
        "coefficients = np.zeros((X.shape[1], len(lambda_values)))\n",
        "\n",
        "# Fit the Lasso regression for each value of lambda and store the coefficients\n",
        "for i, lambda_val in enumerate(lambda_values):\n",
        "    lasso = Lasso(alpha=lambda_val)\n",
        "    lasso.fit(X_scaled, y)\n",
        "    coefficients[:, i] = lasso.coef_\n",
        "\n",
        "# Plot the coefficients vs log(lambda)\n",
        "fig, ax = plt.subplots(figsize=(8, 6))\n",
        "for i in range(X.shape[1]):\n",
        "    ax.plot(np.log(lambda_values), coefficients[i], label=X.columns.values[i])\n",
        "ax.legend()\n",
        "ax.set_xlabel(\"Log(lambda)\")\n",
        "ax.set_ylabel(\"Coefficient\")\n",
        "ax.set_title(\"Lasso Regularization Path\")\n",
        "plt.show()\n"
      ],
      "metadata": {
        "colab": {
          "base_uri": "https://localhost:8080/",
          "height": 404
        },
        "id": "sXdDU37kOUKt",
        "outputId": "cc5363ef-131f-4604-c643-4b66aa85ead2"
      },
      "execution_count": null,
      "outputs": [
        {
          "output_type": "display_data",
          "data": {
            "text/plain": [
              "<Figure size 576x432 with 1 Axes>"
            ],
            "image/png": "[encoded data removed]"
          },
          "metadata": {
            "needs_background": "light"
          }
        }
      ]
    },
    {
      "cell_type": "markdown",
      "source": [
        "Find the optimal lambda value: "
      ],
      "metadata": {
        "id": "WU1dghVZtE7h"
      }
    },
    {
      "cell_type": "code",
      "source": [
        "max_index = np.argmax(coefficients[3,:])\n",
        "max_index = np.argmax(coefficients[3,:])\n",
        "\n",
        "print(coefficients[3, max_index])\n",
        "print(\"Index with the maximum value in column 4:\", max_index)\n",
        "print(\"Optimal lambda:\", lambda_values[max_index])\n",
        "print(\"Optimal coefficients:\", coefficients[:,max_index])"
      ],
      "metadata": {
        "colab": {
          "base_uri": "https://localhost:8080/"
        },
        "id": "ru53RddVn-4b",
        "outputId": "5421d4ba-ef31-460d-e7c4-b12666505cf1"
      },
      "execution_count": null,
      "outputs": [
        {
          "output_type": "stream",
          "name": "stdout",
          "text": [
            "0.004892554099669969\n",
            "Index with the maximum value in column 4: 12\n",
            "Optimal lambda: 0.004037017258596553\n",
            "Optimal coefficients: [ 0.          0.         -0.          0.00489255  0.          0.\n",
            "  0.00606187  0.          0.0010155   0.004458    0.        ]\n"
          ]
        }
      ]
    },
    {
      "cell_type": "markdown",
      "source": [
        "Fit the model on the optimal lambda and try it on the train dataset: "
      ],
      "metadata": {
        "id": "brbeDxjZtH0o"
      }
    },
    {
      "cell_type": "code",
      "source": [
        "lasso = Lasso(alpha=lambda_values[max_index])\n",
        "lasso.fit(X_scaled, y)\n",
        "\n",
        "# get the summary of the Lasso fit\n",
        "summary = pd.Series(lasso.coef_, index=X.columns, name='Coefficient')\n",
        "summary['intercept'] = lasso.intercept_\n",
        "summary['R^2'] = lasso.score(X_scaled, y)\n",
        "\n",
        "# test it\n",
        "x_test_scaled = scaler.transform(x_test)\n",
        "# predict y_hat using the scaled x_test\n",
        "y_hat = lasso.predict(x_test_scaled)\n",
        "#log_result_df['y_hat_lm'] = y_hat  \n",
        "\n",
        "print(summary)"
      ],
      "metadata": {
        "colab": {
          "base_uri": "https://localhost:8080/"
        },
        "id": "n1arwveLqxWQ",
        "outputId": "125cbbf0-7614-404d-f24f-97a9ce694438"
      },
      "execution_count": null,
      "outputs": [
        {
          "output_type": "stream",
          "name": "stdout",
          "text": [
            "const                        0.000000\n",
            "log_diff_price_hrc           0.000000\n",
            "log_diff_price_scrap        -0.000000\n",
            "log_diff_price_hrc_lag1      0.004893\n",
            "log_diff_price_hrc_lag2      0.000000\n",
            "log_diff_price_hrc_lag3      0.000000\n",
            "log_diff_price_hrc_lag4      0.006062\n",
            "log_diff_price_scrap_lag1    0.000000\n",
            "log_diff_price_scrap_lag2    0.001015\n",
            "log_diff_price_scrap_lag3    0.004458\n",
            "log_diff_price_scrap_lag4    0.000000\n",
            "intercept                    0.009558\n",
            "R^2                          0.308446\n",
            "Name: Coefficient, dtype: float64\n"
          ]
        }
      ]
    },
    {
      "cell_type": "markdown",
      "source": [
        "Get the MSE on test and train: "
      ],
      "metadata": {
        "id": "aidkdVEvuNV-"
      }
    },
    {
      "cell_type": "code",
      "source": [
        "from sklearn.metrics import mean_squared_error\n",
        "from scipy.stats.stats import pearsonr   \n",
        "\n",
        "# Assuming X_train, y_train, X_test, y_test are the train-test split data\n",
        "# and lasso is the fitted Lasso model\n",
        "y_pred_train = lasso.predict(X_scaled)\n",
        "mse = mean_squared_error(y_train, y_pred_train)\n",
        "print(\"Mean squared error train: \", mse)\n",
        "\n",
        "scaler = StandardScaler()\n",
        "X_test_scaled = scaler.fit_transform(x_test)\n",
        "y_pred_test = lasso.predict(x_test_scaled)\n",
        "\n",
        "#correlation coefficient\n",
        "print(\"Pearpearsonr(y_test, y_pred_test))\n",
        "mse = mean_squared_error(y_test, y_pred_test)\n",
        "print(\"Mean squared error test: \", mse)"
      ],
      "metadata": {
        "colab": {
          "base_uri": "https://localhost:8080/"
        },
        "id": "FwqpLqwHuO4A",
        "outputId": "8fcc9bfa-4f5b-47de-d2df-734c1c9c4b06"
      },
      "execution_count": null,
      "outputs": [
        {
          "output_type": "stream",
          "name": "stdout",
          "text": [
            "Mean squared error train:  0.0004885978186065671\n",
            "PearsonRResult(statistic=0.6146836277557763, pvalue=0.01932579642442682)\n",
            "Mean squared error test:  0.0003096684664150004\n"
          ]
        },
        {
          "output_type": "stream",
          "name": "stderr",
          "text": [
            "<ipython-input-60-c31457dfb926>:2: DeprecationWarning: Please use `pearsonr` from the `scipy.stats` namespace, the `scipy.stats.stats` namespace is deprecated.\n",
            "  from scipy.stats.stats import pearsonr\n"
          ]
        }
      ]
    },
    {
      "cell_type": "markdown",
      "source": [
        "### 3: A time-series approach\n",
        "Perhaps the PPI is affected by past changes in the price of different instruments. Price hikes take time to ripple through a supply chain, so analying the lags of our data might make sense. To do this, we will introduce two approaches: an autoregressive model (AR) and its more sophisticated counterpart, an ARIMA model. "
      ],
      "metadata": {
        "id": "bVcazabx99kN"
      }
    },
    {
      "cell_type": "markdown",
      "source": [
        "Let's start by observing whether the price or the log_returns are stationary using the Automated Dickey Fuller test"
      ],
      "metadata": {
        "id": "DXaZnHO-qZYc"
      }
    },
    {
      "cell_type": "code",
      "source": [
        "from statsmodels.tsa.stattools import adfuller\n",
        "print(\"ADF Price data:\", adfuller(merged_df['ppi'])[1])\n",
        "print(\"ADF Log returns:\", adfuller(log_diff_df['log_diff_ppi'])[1])"
      ],
      "metadata": {
        "id": "tUUlx6BCqfKg",
        "colab": {
          "base_uri": "https://localhost:8080/"
        },
        "outputId": "9c0cc148-86e1-4da0-b164-e8409588aa4f"
      },
      "execution_count": null,
      "outputs": [
        {
          "output_type": "stream",
          "name": "stdout",
          "text": [
            "Price data: 0.7934294815771687\n",
            "Log returns: 0.0482600949475846\n"
          ]
        }
      ]
    },
    {
      "cell_type": "markdown",
      "source": [
        "The price data is clearly non-stationary, and we can model it using an AR model: "
      ],
      "metadata": {
        "id": "N82eK60iw4o9"
      }
    },
    {
      "cell_type": "code",
      "source": [
        "from statsmodels.tsa.ar_model import AutoReg\n",
        "from sklearn.metrics import mean_squared_error\n",
        "\n",
        "# set y variable\n",
        "y = ppi_fabricated_steel['ppi']\n",
        "\n",
        "# Define x variables\n",
        "x_cols = [col for col in merged_df.columns if col not in ['ppi', 'Date']]\n",
        "x = merged_df[x_cols]\n",
        "\n",
        "# fit an AR(2) model\n",
        "model = AutoReg(y, lags=2)\n",
        "result = model.fit()\n",
        "\n",
        "# print the summary of the model\n",
        "print(result.summary())\n"
      ],
      "metadata": {
        "colab": {
          "base_uri": "https://localhost:8080/"
        },
        "id": "z8_ZICK1qrv-",
        "outputId": "24a993a5-0032-4455-9b37-89ed759e236b"
      },
      "execution_count": null,
      "outputs": [
        {
          "output_type": "stream",
          "name": "stdout",
          "text": [
            "                            AutoReg Model Results                             \n",
            "==============================================================================\n",
            "Dep. Variable:                    ppi   No. Observations:                  140\n",
            "Model:                     AutoReg(2)   Log Likelihood                -303.811\n",
            "Method:               Conditional MLE   S.D. of innovations              2.187\n",
            "Date:                Fri, 10 Mar 2023   AIC                            615.623\n",
            "Time:                        18:35:28   BIC                            627.332\n",
            "Sample:                    08-01-2011   HQIC                           620.381\n",
            "                         - 01-01-2023                                         \n",
            "==============================================================================\n",
            "                 coef    std err          z      P>|z|      [0.025      0.975]\n",
            "------------------------------------------------------------------------------\n",
            "const          0.4600      0.792      0.581      0.561      -1.092       2.012\n",
            "ppi.L1         1.6275      0.068     23.920      0.000       1.494       1.761\n",
            "ppi.L2        -0.6293      0.069     -9.079      0.000      -0.765      -0.493\n",
            "                                    Roots                                    \n",
            "=============================================================================\n",
            "                  Real          Imaginary           Modulus         Frequency\n",
            "-----------------------------------------------------------------------------\n",
            "AR.1            1.0050           +0.0000j            1.0050            0.0000\n",
            "AR.2            1.5811           +0.0000j            1.5811            0.0000\n",
            "-----------------------------------------------------------------------------\n"
          ]
        },
        {
          "output_type": "stream",
          "name": "stderr",
          "text": [
            "/usr/local/lib/python3.9/dist-packages/statsmodels/tsa/base/tsa_model.py:471: ValueWarning: No frequency information was provided, so inferred frequency MS will be used.\n",
            "  self._init_dates(dates, freq)\n"
          ]
        }
      ]
    },
    {
      "cell_type": "markdown",
      "source": [
        "**ARIMA model:**"
      ],
      "metadata": {
        "id": "cfP71Pfzl2wB"
      }
    },
    {
      "cell_type": "code",
      "source": [
        "from statsmodels.tsa.arima.model import ARIMA\n",
        "\n",
        "# set x and y variables\n",
        "y = log_diff_df.iloc[:, 3]  \n",
        "x = log_diff_df.iloc[:, 1:3]\n",
        "\n",
        "# define the model\n",
        "model = ARIMA(y, order=(2,1,1), exog=x)\n",
        "\n",
        "# fit the model\n",
        "model_fit = model.fit()\n",
        "\n",
        "# print the summary of the model\n",
        "print(model_fit.summary())"
      ],
      "metadata": {
        "colab": {
          "base_uri": "https://localhost:8080/"
        },
        "id": "Mon3hK0Bl4tr",
        "outputId": "af384b00-a5d6-4fa2-e911-a598f6bc1674"
      },
      "execution_count": null,
      "outputs": [
        {
          "output_type": "stream",
          "name": "stderr",
          "text": [
            "/usr/local/lib/python3.9/dist-packages/statsmodels/tsa/base/tsa_model.py:471: ValueWarning: An unsupported index was provided and will be ignored when e.g. forecasting.\n",
            "  self._init_dates(dates, freq)\n",
            "/usr/local/lib/python3.9/dist-packages/statsmodels/tsa/base/tsa_model.py:471: ValueWarning: An unsupported index was provided and will be ignored when e.g. forecasting.\n",
            "  self._init_dates(dates, freq)\n",
            "/usr/local/lib/python3.9/dist-packages/statsmodels/tsa/base/tsa_model.py:471: ValueWarning: An unsupported index was provided and will be ignored when e.g. forecasting.\n",
            "  self._init_dates(dates, freq)\n",
            "/usr/local/lib/python3.9/dist-packages/statsmodels/tsa/statespace/sarimax.py:966: UserWarning: Non-stationary starting autoregressive parameters found. Using zeros as starting parameters.\n",
            "  warn('Non-stationary starting autoregressive parameters'\n",
            "/usr/local/lib/python3.9/dist-packages/statsmodels/tsa/statespace/sarimax.py:978: UserWarning: Non-invertible starting MA parameters found. Using zeros as starting parameters.\n",
            "  warn('Non-invertible starting MA parameters found.'\n"
          ]
        },
        {
          "output_type": "stream",
          "name": "stdout",
          "text": [
            "                               SARIMAX Results                                \n",
            "==============================================================================\n",
            "Dep. Variable:         log_diff_index   No. Observations:                   17\n",
            "Model:                 ARIMA(2, 1, 1)   Log Likelihood                  15.259\n",
            "Date:                Thu, 09 Mar 2023   AIC                            -18.519\n",
            "Time:                        18:26:17   BIC                            -13.883\n",
            "Sample:                             0   HQIC                           -18.281\n",
            "                                 - 17                                         \n",
            "Covariance Type:                  opg                                         \n",
            "========================================================================================\n",
            "                           coef    std err          z      P>|z|      [0.025      0.975]\n",
            "----------------------------------------------------------------------------------------\n",
            "log_diff_price.hrc       0.3310      0.498      0.664      0.507      -0.646       1.308\n",
            "log_diff_price.scrap    -0.1495      0.383     -0.390      0.697      -0.901       0.602\n",
            "ar.L1                    0.4597      0.908      0.506      0.613      -1.321       2.240\n",
            "ar.L2                   -0.1414      1.295     -0.109      0.913      -2.680       2.397\n",
            "ma.L1                   -0.9812      6.870     -0.143      0.886     -14.446      12.484\n",
            "sigma2                   0.0077      0.045      0.170      0.865      -0.081       0.096\n",
            "===================================================================================\n",
            "Ljung-Box (L1) (Q):                   0.11   Jarque-Bera (JB):                21.74\n",
            "Prob(Q):                              0.74   Prob(JB):                         0.00\n",
            "Heteroskedasticity (H):              10.48   Skew:                             1.94\n",
            "Prob(H) (two-sided):                  0.02   Kurtosis:                         7.19\n",
            "===================================================================================\n",
            "\n",
            "Warnings:\n",
            "[1] Covariance matrix calculated using the outer product of gradients (complex-step).\n"
          ]
        },
        {
          "output_type": "stream",
          "name": "stderr",
          "text": [
            "/usr/local/lib/python3.9/dist-packages/statsmodels/base/model.py:604: ConvergenceWarning: Maximum Likelihood optimization failed to converge. Check mle_retvals\n",
            "  warnings.warn(\"Maximum Likelihood optimization failed to \"\n"
          ]
        }
      ]
    }
  ]
}